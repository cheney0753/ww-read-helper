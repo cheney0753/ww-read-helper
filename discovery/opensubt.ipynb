{
 "cells": [
  {
   "cell_type": "markdown",
   "metadata": {
    "collapsed": true
   },
   "source": [
    "#### Load the data"
   ]
  },
  {
   "cell_type": "code",
   "execution_count": 1,
   "metadata": {},
   "outputs": [],
   "source": [
    "import pandas as pd"
   ]
  },
  {
   "cell_type": "code",
   "execution_count": 23,
   "metadata": {},
   "outputs": [],
   "source": [
    "from matplotlib import pyplot\n",
    "import seaborn as sns"
   ]
  },
  {
   "cell_type": "code",
   "execution_count": 18,
   "metadata": {},
   "outputs": [],
   "source": [
    "%matplotlib inline"
   ]
  },
  {
   "cell_type": "code",
   "execution_count": 12,
   "metadata": {},
   "outputs": [],
   "source": [
    "file_path = \"/Users/zhichaozhong/PycharmProjects/wordwise/ww-read-helper/data/opensubtitles/nl-2011/nl.txt\"\n",
    "word_frequency = pd.read_csv(file_path, delimiter=' ', header=None, names=['word', 'frequency'])"
   ]
  },
  {
   "cell_type": "code",
   "execution_count": 13,
   "metadata": {},
   "outputs": [
    {
     "name": "stdout",
     "output_type": "stream",
     "text": [
      "   word  frequency\n0    ik    1825186\n1    je    1737422\n2   het    1237531\n3    de    1213237\n4    is    1045300\n5   dat    1034516\n6   een     876602\n7  niet     867844\n8    en     673408\n9   wat     538393\n"
     ]
    }
   ],
   "source": [
    "print(word_frequency.head(10))"
   ]
  },
  {
   "cell_type": "code",
   "execution_count": 26,
   "metadata": {},
   "outputs": [
    {
     "data": {
      "image/png": "[encoded data removed]",
      "text/plain": [
       "<Figure size 432x288 with 1 Axes>"
      ]
     },
     "metadata": {},
     "output_type": "display_data"
    }
   ],
   "source": [
    "# pyplot.figure()\n",
    "# sns.distplot(word_frequency[['frequency']], bins=500)\n",
    "# pyplot.show()"
   ]
  },
  {
   "cell_type": "code",
   "execution_count": 28,
   "metadata": {},
   "outputs": [],
   "source": [
    "file_path = \"/Users/zhichaozhong/PycharmProjects/wordwise/ww-read-helper/data/exmaple_text_nl.txt\"\n",
    "\n",
    "with open(file_path) as f:\n",
    "    test_txt = f.readlines()"
   ]
  },
  {
   "cell_type": "code",
   "execution_count": 29,
   "metadata": {},
   "outputs": [
    {
     "data": {
      "text/plain": [
       "['De gevolgen die de nieuwe kabinetsmaatregelen in strijd tegen het coronavirus voor de televisie-industrie hebben, verschilt per zender. Dat blijkt uit een rondgang van NU.nl.\\n',\n 'Het kabinet liet maandagavond weten dat alle bijeenkomsten, samenkomsten en evenementen tot 1 juni zijn verboden. Bij overtreding zullen er boetes worden uitgedeeld.\\n',\n \"In televisiestudio's bevinden zich ook zonder publiek te veel mensen om aan de eisen van het kabinet te kunnen voldoen. Personen die werkzaam zijn in de media werden enige tijd terug door de overheid geschaard onder vitale beroepsgroepen, maar of dit betekent dat televisieprogramma's gewoon opgenomen kunnen worden, is niet bekend.\\n\",\n 'Zou het kunnen dat Matthijs van Nieuwkerk zijn afscheid van De Wereld Draait Door (DWDD) vrijdag met enkel een cameraman moet vieren? Nee, zegt communicatieadviseur van BNNVARA Thijs Verheij tegen NU.nl.\\n',\n '\"Onze sector valt onder de vitale beroepen, dus het blijft, met inachtneming van alle voorzorgsmaatregelen en restricties, mogelijk om DWDD te blijven maken. Voor onze talkshows geldt dat mensen zowel voor als achter de schermen 1,5 meter afstand houden tot elkaar en we volgen ook strikt de overige maatregelen van het RIVM. Uiteraard staat de gezondheid van onze gasten en makers voorop.\"']"
      ]
     },
     "execution_count": 29,
     "metadata": {},
     "output_type": "execute_result"
    }
   ],
   "source": [
    "test_txt"
   ]
  },
  {
   "cell_type": "code",
   "execution_count": 31,
   "metadata": {},
   "outputs": [],
   "source": [
    "# Map the text to list of words\n",
    "list_of_words = []\n",
    "for stn in test_txt:\n",
    "    list_of_words += stn.split(' ')\n"
   ]
  },
  {
   "cell_type": "code",
   "execution_count": 33,
   "metadata": {},
   "outputs": [
    {
     "name": "stdout",
     "output_type": "stream",
     "text": [
      "De gevolgen die de nieuwe kabinetsmaatregelen in strijd tegen het coronavirus voor de televisie-industrie hebben, verschilt per zender. Dat blijkt uit een rondgang van NU.nl.\n Het kabinet liet maandagavond weten dat alle bijeenkomsten, samenkomsten en evenementen tot 1 juni zijn verboden. Bij overtreding zullen er boetes worden uitgedeeld.\n In televisiestudio's bevinden zich ook zonder publiek te veel mensen om aan de eisen van het kabinet te kunnen voldoen. Personen die werkzaam zijn in de media werden enige tijd terug door de overheid geschaard onder vitale beroepsgroepen, maar of dit betekent dat televisieprogramma's gewoon opgenomen kunnen worden, is niet bekend.\n Zou het kunnen dat Matthijs van Nieuwkerk zijn afscheid van De Wereld Draait Door (DWDD) vrijdag met enkel een cameraman moet vieren? Nee, zegt communicatieadviseur van BNNVARA Thijs Verheij tegen NU.nl.\n \"Onze sector valt onder de vitale beroepen, dus het blijft, met inachtneming van alle voorzorgsmaatregelen en restricties, mogelijk om DWDD te blijven maken. Voor onze talkshows geldt dat mensen zowel voor als achter de schermen 1,5 meter afstand houden tot elkaar en we volgen ook strikt de overige maatregelen van het RIVM. Uiteraard staat de gezondheid van onze gasten en makers voorop.\"\n"
     ]
    }
   ],
   "source": [
    "print(' '.join(list_of_words))"
   ]
  },
  {
   "cell_type": "code",
   "execution_count": 48,
   "metadata": {},
   "outputs": [
    {
     "name": "stdout",
     "output_type": "stream",
     "text": [
      "De -1\ngevolgen 760\nkabinetsmaatregelen -1\n"
     ]
    },
    {
     "name": "stdout",
     "output_type": "stream",
     "text": [
      "coronavirus -1\ntelevisie-industrie -1\nhebben, -1\nverschilt 80\nzender. -1\nDat -1\n"
     ]
    },
    {
     "name": "stdout",
     "output_type": "stream",
     "text": [
      "rondgang 9\nNU.nl.\n -1\nHet -1\nkabinet 150\nmaandagavond 52\nbijeenkomsten, -1\n"
     ]
    },
    {
     "name": "stdout",
     "output_type": "stream",
     "text": [
      "samenkomsten 13\nevenementen 60\n1 -1\njuni 839\nverboden. -1\nBij -1\novertreding 461\n"
     ]
    },
    {
     "name": "stdout",
     "output_type": "stream",
     "text": [
      "boetes 79\nuitgedeeld.\n -1\nIn -1\ntelevisiestudio's -1\nbevinden 372\n"
     ]
    },
    {
     "name": "stdout",
     "output_type": "stream",
     "text": [
      "eisen 941\nkabinet 150\nvoldoen. -1\nPersonen -1\nwerkzaam 75\n"
     ]
    },
    {
     "name": "stdout",
     "output_type": "stream",
     "text": [
      "media 747\noverheid 957\ngeschaard 5\nvitale 162\nberoepsgroepen, -1\n"
     ]
    },
    {
     "name": "stdout",
     "output_type": "stream",
     "text": [
      "televisieprogramma's -1\nworden, -1\nbekend.\n -1\nZou -1\nMatthijs -1\n"
     ]
    },
    {
     "name": "stdout",
     "output_type": "stream",
     "text": [
      "Nieuwkerk -1\nDe -1\nWereld -1\nDraait -1\nDoor -1\n(DWDD) -1\n"
     ]
    },
    {
     "name": "stdout",
     "output_type": "stream",
     "text": [
      "cameraman 205\nvieren? -1\nNee, -1\ncommunicatieadviseur -1\nBNNVARA -1\nThijs -1\nVerheij -1\nNU.nl.\n -1\n"
     ]
    },
    {
     "name": "stdout",
     "output_type": "stream",
     "text": [
      "\"Onze -1\nsector 558\nvitale 162\nberoepen, -1\nblijft, -1\ninachtneming 4\n"
     ]
    },
    {
     "name": "stdout",
     "output_type": "stream",
     "text": [
      "voorzorgsmaatregelen 88\nrestricties, -1\nDWDD -1\nmaken. -1\nVoor -1\ntalkshows 28\n"
     ]
    },
    {
     "name": "stdout",
     "output_type": "stream",
     "text": [
      "zowel 792\nschermen 188\n1,5 -1\n"
     ]
    },
    {
     "name": "stdout",
     "output_type": "stream",
     "text": [
      "strikt 284\noverige 122\nmaatregelen 271\nRIVM. -1\nUiteraard -1\n"
     ]
    },
    {
     "name": "stdout",
     "output_type": "stream",
     "text": [
      "makers 59\nvoorop.\" -1\n"
     ]
    }
   ],
   "source": [
    "for w in list_of_words:\n",
    "    freq = word_frequency[word_frequency['word']==w]['frequency']\n",
    "    if len(freq) > 0:\n",
    "        v = freq.values[0]\n",
    "    else:\n",
    "        v = -1\n",
    "    \n",
    "    if v < 1000:\n",
    "        print(w, v)\n",
    "        "
   ]
  },
  {
   "cell_type": "code",
   "execution_count": 46,
   "metadata": {},
   "outputs": [
    {
     "data": {
      "text/plain": [
       "760"
      ]
     },
     "execution_count": 46,
     "metadata": {},
     "output_type": "execute_result"
    }
   ],
   "source": [
    "freq.values[0]"
   ]
  },
  {
   "cell_type": "code",
   "execution_count": null,
   "metadata": {},
   "outputs": [],
   "source": []
  }
 ],
 "metadata": {
  "kernelspec": {
   "display_name": "Python 3",
   "language": "python",
   "name": "python3"
  },
  "language_info": {
   "codemirror_mode": {
    "name": "ipython",
    "version": 3
   },
   "file_extension": ".py",
   "mimetype": "text/x-python",
   "name": "python",
   "nbconvert_exporter": "python",
   "pygments_lexer": "ipython3",
   "version": "3.7.6"
  }
 },
 "nbformat": 4,
 "nbformat_minor": 1
}
